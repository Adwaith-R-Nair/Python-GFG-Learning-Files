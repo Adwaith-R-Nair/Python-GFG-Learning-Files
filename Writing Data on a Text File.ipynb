{
 "cells": [
  {
   "cell_type": "code",
   "execution_count": 2,
   "id": "805553b7-6dca-4bd5-b35d-26b3eb2c0d12",
   "metadata": {},
   "outputs": [
    {
     "name": "stdout",
     "output_type": "stream",
     "text": [
      " Volume in drive C is OS\n",
      " Volume Serial Number is 2082-8217\n",
      "\n",
      " Directory of C:\\Users\\ADWAITH R NAIR\\Documents\\FilesInPython\n",
      "\n",
      "21-08-2025  11:21    <DIR>          .\n",
      "20-08-2025  18:08    <DIR>          ..\n",
      "20-08-2025  18:53               223 .gitignore\n",
      "21-08-2025  11:21    <DIR>          .ipynb_checkpoints\n",
      "20-08-2025  21:25             7,527 Advanced Text Preprocessing.ipynb\n",
      "20-08-2025  18:34            10,632 Corpus Reading from File.ipynb\n",
      "20-08-2025  18:29             2,855 corpus.txt\n",
      "20-08-2025  18:21             1,050 Data Reading from File.ipynb\n",
      "20-08-2025  18:19                28 data.txt\n",
      "20-08-2025  20:14            15,939 Text Preprocessing.ipynb\n",
      "21-08-2025  11:20               337 Writing Data on a Text File.ipynb\n",
      "               8 File(s)         38,591 bytes\n",
      "               3 Dir(s)  557,299,290,112 bytes free\n"
     ]
    }
   ],
   "source": [
    "!dir"
   ]
  },
  {
   "cell_type": "code",
   "execution_count": 4,
   "id": "f0f3973e-3573-4d37-9392-dccf41a40665",
   "metadata": {},
   "outputs": [],
   "source": [
    "fd = open(\"Writing.txt\", 'w')\n",
    "fd.write(\"Hello Everyone! Welcome to GFG! Adwaith this side.\")\n",
    "fd.close()"
   ]
  },
  {
   "cell_type": "code",
   "execution_count": 5,
   "id": "4fac1827-b6a6-45f1-a49b-f75d4b1b4e7e",
   "metadata": {},
   "outputs": [],
   "source": [
    "fd = open(\"Writing.txt\", 'a')\n",
    "fd.write(\" I am an AI trainer\")\n",
    "fd.close()"
   ]
  },
  {
   "cell_type": "code",
   "execution_count": null,
   "id": "7c5a8569-64e7-4fb4-b169-77bf7285da63",
   "metadata": {},
   "outputs": [],
   "source": []
  }
 ],
 "metadata": {
  "kernelspec": {
   "display_name": "Python [conda env:base] *",
   "language": "python",
   "name": "conda-base-py"
  },
  "language_info": {
   "codemirror_mode": {
    "name": "ipython",
    "version": 3
   },
   "file_extension": ".py",
   "mimetype": "text/x-python",
   "name": "python",
   "nbconvert_exporter": "python",
   "pygments_lexer": "ipython3",
   "version": "3.13.5"
  }
 },
 "nbformat": 4,
 "nbformat_minor": 5
}
