{
 "cells": [
  {
   "cell_type": "code",
   "execution_count": 4,
   "id": "70532a7a-1f85-45ae-b9b1-a345ce2c1018",
   "metadata": {},
   "outputs": [],
   "source": [
    "fd = open(\"Writer.txt\", 'a')\n",
    "fd.write(\"Hello Everyone\\n\")\n",
    "fd.close()"
   ]
  },
  {
   "cell_type": "code",
   "execution_count": null,
   "id": "c41e77a1-882d-42f9-945b-3e07c00babb5",
   "metadata": {},
   "outputs": [],
   "source": [
    "fd = open(\"Writer.txt\", 'a')\n",
    "txt = input(\"Enter the text : \")\n",
    "txt = txt + \".\\n\"\n",
    "fd.write(txt)\n",
    "fd.close()"
   ]
  },
  {
   "cell_type": "code",
   "execution_count": null,
   "id": "ced9b040-5b75-46a5-81ce-9272b57ccd43",
   "metadata": {},
   "outputs": [],
   "source": []
  }
 ],
 "metadata": {
  "kernelspec": {
   "display_name": "Python [conda env:base] *",
   "language": "python",
   "name": "conda-base-py"
  },
  "language_info": {
   "codemirror_mode": {
    "name": "ipython",
    "version": 3
   },
   "file_extension": ".py",
   "mimetype": "text/x-python",
   "name": "python",
   "nbconvert_exporter": "python",
   "pygments_lexer": "ipython3",
   "version": "3.13.5"
  }
 },
 "nbformat": 4,
 "nbformat_minor": 5
}
